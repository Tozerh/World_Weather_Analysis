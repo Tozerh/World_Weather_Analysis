{
 "cells": [
  {
   "cell_type": "code",
   "execution_count": 1,
   "metadata": {},
   "outputs": [],
   "source": [
    "# Import the dependencies.\n",
    "import pandas as pd\n",
    "import matplotlib.pyplot as plt\n",
    "import numpy as np\n",
    "from citipy import citipy  \n",
    "from config import weather_api_key"
   ]
  },
  {
   "cell_type": "code",
   "execution_count": 2,
   "metadata": {},
   "outputs": [
    {
     "data": {
      "text/plain": [
       "<zip at 0x1d732d706c0>"
      ]
     },
     "execution_count": 2,
     "metadata": {},
     "output_type": "execute_result"
    }
   ],
   "source": [
    "lats = np.random.uniform(low=-90.000, high=90.000, size=1500)\n",
    "lngs = np.random.uniform(low=-180.000, high=180.000, size=1500)\n",
    "lat_lngs = zip(lats, lngs)\n",
    "lat_lngs"
   ]
  },
  {
   "cell_type": "code",
   "execution_count": 3,
   "metadata": {},
   "outputs": [],
   "source": [
    "#add lat and lngs to a list\n",
    "coordinates = list(lat_lngs)"
   ]
  },
  {
   "cell_type": "code",
   "execution_count": 4,
   "metadata": {},
   "outputs": [
    {
     "data": {
      "text/plain": [
       "625"
      ]
     },
     "execution_count": 4,
     "metadata": {},
     "output_type": "execute_result"
    }
   ],
   "source": [
    "# Create a list for holding the cities.\n",
    "cities = []\n",
    "# Identify the nearest city for each latitude and longitude combination.\n",
    "for coordinate in coordinates:\n",
    "    city = citipy.nearest_city(coordinate[0], coordinate[1]).city_name\n",
    "\n",
    "    # If the city is unique, then we will add it to the cities list.\n",
    "    if city not in cities:\n",
    "        cities.append(city)\n",
    "# Print the city count to confirm sufficient count.\n",
    "len(cities)"
   ]
  },
  {
   "cell_type": "code",
   "execution_count": 49,
   "metadata": {},
   "outputs": [],
   "source": [
    "# Starting URL for Weather Map API Call.\n",
    "url = \"http://api.openweathermap.org/data/2.5/weather?units=Imperial&APPID=\"\n",
    "key = weather_api_key\n",
    "\n",
    "### Establishes base for request_url\n",
    "request_url = f\"{url}{key}\"\n"
   ]
  },
  {
   "cell_type": "code",
   "execution_count": 50,
   "metadata": {},
   "outputs": [],
   "source": [
    "city_url = request_url + \"&q=\"+\"Boston\""
   ]
  },
  {
   "cell_type": "code",
   "execution_count": null,
   "metadata": {},
   "outputs": [],
   "source": []
  },
  {
   "cell_type": "code",
   "execution_count": 7,
   "metadata": {},
   "outputs": [],
   "source": [
    "import requests\n"
   ]
  },
  {
   "cell_type": "code",
   "execution_count": 8,
   "metadata": {},
   "outputs": [],
   "source": [
    "\n",
    "city = \"Boston\"\n",
    "query_url = f\"{url}{key}&q={city}\""
   ]
  },
  {
   "cell_type": "code",
   "execution_count": null,
   "metadata": {},
   "outputs": [],
   "source": [
    "\n"
   ]
  },
  {
   "cell_type": "code",
   "execution_count": 9,
   "metadata": {},
   "outputs": [
    {
     "ename": "NameError",
     "evalue": "name 'weather_response' is not defined",
     "output_type": "error",
     "traceback": [
      "\u001b[1;31m---------------------------------------------------------------------------\u001b[0m",
      "\u001b[1;31mNameError\u001b[0m                                 Traceback (most recent call last)",
      "\u001b[1;32m<ipython-input-9-1b92826ae831>\u001b[0m in \u001b[0;36m<module>\u001b[1;34m\u001b[0m\n\u001b[1;32m----> 1\u001b[1;33m \u001b[0mprint\u001b[0m\u001b[1;33m(\u001b[0m\u001b[0mweather_response\u001b[0m\u001b[1;33m)\u001b[0m\u001b[1;33m\u001b[0m\u001b[1;33m\u001b[0m\u001b[0m\n\u001b[0m",
      "\u001b[1;31mNameError\u001b[0m: name 'weather_response' is not defined"
     ]
    }
   ],
   "source": [
    "print(weather_response)"
   ]
  },
  {
   "cell_type": "code",
   "execution_count": 11,
   "metadata": {},
   "outputs": [
    {
     "ename": "NameError",
     "evalue": "name 'weather_response' is not defined",
     "output_type": "error",
     "traceback": [
      "\u001b[1;31m---------------------------------------------------------------------------\u001b[0m",
      "\u001b[1;31mNameError\u001b[0m                                 Traceback (most recent call last)",
      "\u001b[1;32m<ipython-input-11-429f4b25cccf>\u001b[0m in \u001b[0;36m<module>\u001b[1;34m\u001b[0m\n\u001b[1;32m----> 1\u001b[1;33m \u001b[0mweather_response\u001b[0m\u001b[1;33m.\u001b[0m\u001b[0mkeys\u001b[0m\u001b[1;33m\u001b[0m\u001b[1;33m\u001b[0m\u001b[0m\n\u001b[0m",
      "\u001b[1;31mNameError\u001b[0m: name 'weather_response' is not defined"
     ]
    }
   ],
   "source": [
    "weather_response.keys\n"
   ]
  },
  {
   "cell_type": "code",
   "execution_count": 12,
   "metadata": {},
   "outputs": [
    {
     "ename": "NameError",
     "evalue": "name 'weather_response' is not defined",
     "output_type": "error",
     "traceback": [
      "\u001b[1;31m---------------------------------------------------------------------------\u001b[0m",
      "\u001b[1;31mNameError\u001b[0m                                 Traceback (most recent call last)",
      "\u001b[1;32m<ipython-input-12-e7441fec6e2b>\u001b[0m in \u001b[0;36m<module>\u001b[1;34m\u001b[0m\n\u001b[1;32m----> 1\u001b[1;33m \u001b[0mweather_response\u001b[0m\u001b[1;33m.\u001b[0m\u001b[0mget\u001b[0m\u001b[1;33m(\u001b[0m\u001b[1;34m'main'\u001b[0m\u001b[1;33m)\u001b[0m\u001b[1;33m\u001b[0m\u001b[1;33m\u001b[0m\u001b[0m\n\u001b[0m",
      "\u001b[1;31mNameError\u001b[0m: name 'weather_response' is not defined"
     ]
    }
   ],
   "source": [
    "weather_response.get('main')"
   ]
  },
  {
   "cell_type": "code",
   "execution_count": 13,
   "metadata": {},
   "outputs": [
    {
     "ename": "NameError",
     "evalue": "name 'weather_response' is not defined",
     "output_type": "error",
     "traceback": [
      "\u001b[1;31m---------------------------------------------------------------------------\u001b[0m",
      "\u001b[1;31mNameError\u001b[0m                                 Traceback (most recent call last)",
      "\u001b[1;32m<ipython-input-13-a3bb2ae4aaf2>\u001b[0m in \u001b[0;36m<module>\u001b[1;34m\u001b[0m\n\u001b[1;32m----> 1\u001b[1;33m \u001b[0mweather_response\u001b[0m\u001b[1;33m.\u001b[0m\u001b[0mget\u001b[0m\u001b[1;33m(\u001b[0m\u001b[1;34m'weather'\u001b[0m\u001b[1;33m)\u001b[0m\u001b[1;33m\u001b[0m\u001b[1;33m\u001b[0m\u001b[0m\n\u001b[0m",
      "\u001b[1;31mNameError\u001b[0m: name 'weather_response' is not defined"
     ]
    }
   ],
   "source": [
    "weather_response.get('weather')"
   ]
  },
  {
   "cell_type": "code",
   "execution_count": 14,
   "metadata": {},
   "outputs": [
    {
     "ename": "NameError",
     "evalue": "name 'weather_response' is not defined",
     "output_type": "error",
     "traceback": [
      "\u001b[1;31m---------------------------------------------------------------------------\u001b[0m",
      "\u001b[1;31mNameError\u001b[0m                                 Traceback (most recent call last)",
      "\u001b[1;32m<ipython-input-14-d7da99e68ba1>\u001b[0m in \u001b[0;36m<module>\u001b[1;34m\u001b[0m\n\u001b[1;32m----> 1\u001b[1;33m \u001b[0mweather_response\u001b[0m\u001b[1;33m.\u001b[0m\u001b[0mstatus_code\u001b[0m\u001b[1;33m\u001b[0m\u001b[1;33m\u001b[0m\u001b[0m\n\u001b[0m",
      "\u001b[1;31mNameError\u001b[0m: name 'weather_response' is not defined"
     ]
    }
   ],
   "source": [
    "weather_response.status_code\n"
   ]
  },
  {
   "cell_type": "code",
   "execution_count": 15,
   "metadata": {},
   "outputs": [
    {
     "ename": "NameError",
     "evalue": "name 'weather_response' is not defined",
     "output_type": "error",
     "traceback": [
      "\u001b[1;31m---------------------------------------------------------------------------\u001b[0m",
      "\u001b[1;31mNameError\u001b[0m                                 Traceback (most recent call last)",
      "\u001b[1;32m<ipython-input-15-e80a62d06e5c>\u001b[0m in \u001b[0;36m<module>\u001b[1;34m\u001b[0m\n\u001b[1;32m----> 1\u001b[1;33m \u001b[0mtype\u001b[0m\u001b[1;33m(\u001b[0m\u001b[0mweather_response\u001b[0m\u001b[1;33m.\u001b[0m\u001b[0mstatus_code\u001b[0m\u001b[1;33m)\u001b[0m\u001b[1;33m\u001b[0m\u001b[1;33m\u001b[0m\u001b[0m\n\u001b[0m",
      "\u001b[1;31mNameError\u001b[0m: name 'weather_response' is not defined"
     ]
    }
   ],
   "source": [
    "type(weather_response.status_code)"
   ]
  },
  {
   "cell_type": "code",
   "execution_count": 16,
   "metadata": {},
   "outputs": [
    {
     "ename": "NameError",
     "evalue": "name 'weather_response' is not defined",
     "output_type": "error",
     "traceback": [
      "\u001b[1;31m---------------------------------------------------------------------------\u001b[0m",
      "\u001b[1;31mNameError\u001b[0m                                 Traceback (most recent call last)",
      "\u001b[1;32m<ipython-input-16-d3a827a1af21>\u001b[0m in \u001b[0;36m<module>\u001b[1;34m\u001b[0m\n\u001b[1;32m----> 1\u001b[1;33m \u001b[0mweather_response\u001b[0m\u001b[1;33m.\u001b[0m\u001b[0mjson\u001b[0m\u001b[1;33m(\u001b[0m\u001b[1;33m)\u001b[0m\u001b[1;33m\u001b[0m\u001b[1;33m\u001b[0m\u001b[0m\n\u001b[0m",
      "\u001b[1;31mNameError\u001b[0m: name 'weather_response' is not defined"
     ]
    }
   ],
   "source": [
    "weather_response.json()"
   ]
  },
  {
   "cell_type": "code",
   "execution_count": 17,
   "metadata": {},
   "outputs": [
    {
     "ename": "NameError",
     "evalue": "name 'weather_response' is not defined",
     "output_type": "error",
     "traceback": [
      "\u001b[1;31m---------------------------------------------------------------------------\u001b[0m",
      "\u001b[1;31mNameError\u001b[0m                                 Traceback (most recent call last)",
      "\u001b[1;32m<ipython-input-17-072556ce0f78>\u001b[0m in \u001b[0;36m<module>\u001b[1;34m\u001b[0m\n\u001b[1;32m----> 1\u001b[1;33m \u001b[0mboston_data\u001b[0m \u001b[1;33m=\u001b[0m \u001b[0mweather_response\u001b[0m\u001b[1;33m.\u001b[0m\u001b[0mjson\u001b[0m\u001b[1;33m(\u001b[0m\u001b[1;33m)\u001b[0m\u001b[1;33m\u001b[0m\u001b[1;33m\u001b[0m\u001b[0m\n\u001b[0m",
      "\u001b[1;31mNameError\u001b[0m: name 'weather_response' is not defined"
     ]
    }
   ],
   "source": [
    "boston_data = weather_response.json()"
   ]
  },
  {
   "cell_type": "code",
   "execution_count": 18,
   "metadata": {},
   "outputs": [
    {
     "ename": "NameError",
     "evalue": "name 'boston_data' is not defined",
     "output_type": "error",
     "traceback": [
      "\u001b[1;31m---------------------------------------------------------------------------\u001b[0m",
      "\u001b[1;31mNameError\u001b[0m                                 Traceback (most recent call last)",
      "\u001b[1;32m<ipython-input-18-a14472a0001b>\u001b[0m in \u001b[0;36m<module>\u001b[1;34m\u001b[0m\n\u001b[1;32m----> 1\u001b[1;33m \u001b[0mboston_data\u001b[0m\u001b[1;33m[\u001b[0m\u001b[1;34m'sys'\u001b[0m\u001b[1;33m]\u001b[0m\u001b[1;33m[\u001b[0m\u001b[1;34m'country'\u001b[0m\u001b[1;33m]\u001b[0m\u001b[1;33m\u001b[0m\u001b[1;33m\u001b[0m\u001b[0m\n\u001b[0m",
      "\u001b[1;31mNameError\u001b[0m: name 'boston_data' is not defined"
     ]
    }
   ],
   "source": [
    "boston_data['sys']['country']"
   ]
  },
  {
   "cell_type": "code",
   "execution_count": 19,
   "metadata": {},
   "outputs": [
    {
     "ename": "NameError",
     "evalue": "name 'boston_data' is not defined",
     "output_type": "error",
     "traceback": [
      "\u001b[1;31m---------------------------------------------------------------------------\u001b[0m",
      "\u001b[1;31mNameError\u001b[0m                                 Traceback (most recent call last)",
      "\u001b[1;32m<ipython-input-19-c4c9700bc5da>\u001b[0m in \u001b[0;36m<module>\u001b[1;34m\u001b[0m\n\u001b[1;32m----> 1\u001b[1;33m \u001b[0mboston_data\u001b[0m\u001b[1;33m[\u001b[0m\u001b[1;34m'dt'\u001b[0m\u001b[1;33m]\u001b[0m\u001b[1;33m\u001b[0m\u001b[1;33m\u001b[0m\u001b[0m\n\u001b[0m",
      "\u001b[1;31mNameError\u001b[0m: name 'boston_data' is not defined"
     ]
    }
   ],
   "source": [
    "boston_data['dt']"
   ]
  },
  {
   "cell_type": "code",
   "execution_count": 20,
   "metadata": {},
   "outputs": [
    {
     "ename": "NameError",
     "evalue": "name 'boston_data' is not defined",
     "output_type": "error",
     "traceback": [
      "\u001b[1;31m---------------------------------------------------------------------------\u001b[0m",
      "\u001b[1;31mNameError\u001b[0m                                 Traceback (most recent call last)",
      "\u001b[1;32m<ipython-input-20-16d70002ba7a>\u001b[0m in \u001b[0;36m<module>\u001b[1;34m\u001b[0m\n\u001b[1;32m----> 1\u001b[1;33m \u001b[0mlat\u001b[0m \u001b[1;33m=\u001b[0m \u001b[0mboston_data\u001b[0m\u001b[1;33m[\u001b[0m\u001b[1;34m\"coord\"\u001b[0m\u001b[1;33m]\u001b[0m\u001b[1;33m[\u001b[0m\u001b[1;34m\"lat\"\u001b[0m\u001b[1;33m]\u001b[0m\u001b[1;33m\u001b[0m\u001b[1;33m\u001b[0m\u001b[0m\n\u001b[0m\u001b[0;32m      2\u001b[0m \u001b[0mlng\u001b[0m \u001b[1;33m=\u001b[0m \u001b[0mboston_data\u001b[0m\u001b[1;33m[\u001b[0m\u001b[1;34m\"coord\"\u001b[0m\u001b[1;33m]\u001b[0m\u001b[1;33m[\u001b[0m\u001b[1;34m\"lon\"\u001b[0m\u001b[1;33m]\u001b[0m\u001b[1;33m\u001b[0m\u001b[1;33m\u001b[0m\u001b[0m\n\u001b[0;32m      3\u001b[0m \u001b[0mmax_temp\u001b[0m \u001b[1;33m=\u001b[0m \u001b[0mboston_data\u001b[0m\u001b[1;33m[\u001b[0m\u001b[1;34m\"main\"\u001b[0m\u001b[1;33m]\u001b[0m\u001b[1;33m[\u001b[0m\u001b[1;34m\"temp_max\"\u001b[0m\u001b[1;33m]\u001b[0m\u001b[1;33m\u001b[0m\u001b[1;33m\u001b[0m\u001b[0m\n\u001b[0;32m      4\u001b[0m \u001b[0mhumidity\u001b[0m \u001b[1;33m=\u001b[0m \u001b[0mboston_data\u001b[0m\u001b[1;33m[\u001b[0m\u001b[1;34m\"main\"\u001b[0m\u001b[1;33m]\u001b[0m\u001b[1;33m[\u001b[0m\u001b[1;34m\"humidity\"\u001b[0m\u001b[1;33m]\u001b[0m\u001b[1;33m\u001b[0m\u001b[1;33m\u001b[0m\u001b[0m\n\u001b[0;32m      5\u001b[0m \u001b[0mclouds\u001b[0m \u001b[1;33m=\u001b[0m \u001b[0mboston_data\u001b[0m\u001b[1;33m[\u001b[0m\u001b[1;34m\"clouds\"\u001b[0m\u001b[1;33m]\u001b[0m\u001b[1;33m[\u001b[0m\u001b[1;34m\"all\"\u001b[0m\u001b[1;33m]\u001b[0m\u001b[1;33m\u001b[0m\u001b[1;33m\u001b[0m\u001b[0m\n",
      "\u001b[1;31mNameError\u001b[0m: name 'boston_data' is not defined"
     ]
    }
   ],
   "source": [
    "lat = boston_data[\"coord\"][\"lat\"]\n",
    "lng = boston_data[\"coord\"][\"lon\"]\n",
    "max_temp = boston_data[\"main\"][\"temp_max\"]\n",
    "humidity = boston_data[\"main\"][\"humidity\"]\n",
    "clouds = boston_data[\"clouds\"][\"all\"]\n",
    "wind = boston_data[\"wind\"][\"speed\"]\n",
    "print(lat, lng, max_temp, humidity, clouds, wind)"
   ]
  },
  {
   "cell_type": "code",
   "execution_count": 21,
   "metadata": {},
   "outputs": [
    {
     "ename": "NameError",
     "evalue": "name 'lat' is not defined",
     "output_type": "error",
     "traceback": [
      "\u001b[1;31m---------------------------------------------------------------------------\u001b[0m",
      "\u001b[1;31mNameError\u001b[0m                                 Traceback (most recent call last)",
      "\u001b[1;32m<ipython-input-21-c6d70e7d4c88>\u001b[0m in \u001b[0;36m<module>\u001b[1;34m\u001b[0m\n\u001b[1;32m----> 1\u001b[1;33m \u001b[0mprint\u001b[0m\u001b[1;33m(\u001b[0m\u001b[0mlat\u001b[0m\u001b[1;33m,\u001b[0m\u001b[0mlng\u001b[0m\u001b[1;33m,\u001b[0m \u001b[0mmax_temp\u001b[0m\u001b[1;33m,\u001b[0m\u001b[0mhumidity\u001b[0m\u001b[1;33m,\u001b[0m\u001b[0mclouds\u001b[0m\u001b[1;33m,\u001b[0m\u001b[0mwind\u001b[0m\u001b[1;33m)\u001b[0m\u001b[1;33m\u001b[0m\u001b[1;33m\u001b[0m\u001b[0m\n\u001b[0m",
      "\u001b[1;31mNameError\u001b[0m: name 'lat' is not defined"
     ]
    }
   ],
   "source": [
    "print(lat,lng, max_temp,humidity,clouds,wind)"
   ]
  },
  {
   "cell_type": "code",
   "execution_count": 22,
   "metadata": {},
   "outputs": [
    {
     "ename": "NameError",
     "evalue": "name 'boston_data' is not defined",
     "output_type": "error",
     "traceback": [
      "\u001b[1;31m---------------------------------------------------------------------------\u001b[0m",
      "\u001b[1;31mNameError\u001b[0m                                 Traceback (most recent call last)",
      "\u001b[1;32m<ipython-input-22-e28c77031e2f>\u001b[0m in \u001b[0;36m<module>\u001b[1;34m\u001b[0m\n\u001b[0;32m      1\u001b[0m \u001b[1;32mfrom\u001b[0m \u001b[0mdatetime\u001b[0m \u001b[1;32mimport\u001b[0m \u001b[0mdatetime\u001b[0m\u001b[1;33m\u001b[0m\u001b[1;33m\u001b[0m\u001b[0m\n\u001b[1;32m----> 2\u001b[1;33m \u001b[0mdate\u001b[0m \u001b[1;33m=\u001b[0m \u001b[0mboston_data\u001b[0m\u001b[1;33m[\u001b[0m\u001b[1;34m'dt'\u001b[0m\u001b[1;33m]\u001b[0m\u001b[1;33m\u001b[0m\u001b[1;33m\u001b[0m\u001b[0m\n\u001b[0m\u001b[0;32m      3\u001b[0m \u001b[0mdatetime\u001b[0m\u001b[1;33m.\u001b[0m\u001b[0mutcfromtimestamp\u001b[0m\u001b[1;33m(\u001b[0m\u001b[0mdate\u001b[0m\u001b[1;33m)\u001b[0m\u001b[1;33m\u001b[0m\u001b[1;33m\u001b[0m\u001b[0m\n",
      "\u001b[1;31mNameError\u001b[0m: name 'boston_data' is not defined"
     ]
    }
   ],
   "source": [
    "from datetime import datetime\n",
    "date = boston_data['dt']\n",
    "datetime.utcfromtimestamp(date)"
   ]
  },
  {
   "cell_type": "code",
   "execution_count": 23,
   "metadata": {},
   "outputs": [
    {
     "ename": "NameError",
     "evalue": "name 'date' is not defined",
     "output_type": "error",
     "traceback": [
      "\u001b[1;31m---------------------------------------------------------------------------\u001b[0m",
      "\u001b[1;31mNameError\u001b[0m                                 Traceback (most recent call last)",
      "\u001b[1;32m<ipython-input-23-67cb9c7fa964>\u001b[0m in \u001b[0;36m<module>\u001b[1;34m\u001b[0m\n\u001b[1;32m----> 1\u001b[1;33m \u001b[0mdatetime\u001b[0m\u001b[1;33m.\u001b[0m\u001b[0mutcfromtimestamp\u001b[0m\u001b[1;33m(\u001b[0m\u001b[0mdate\u001b[0m\u001b[1;33m)\u001b[0m\u001b[1;33m.\u001b[0m\u001b[0mstrftime\u001b[0m\u001b[1;33m(\u001b[0m\u001b[1;34m'%Y-%m-%d %H:%M:%S'\u001b[0m\u001b[1;33m)\u001b[0m\u001b[1;33m\u001b[0m\u001b[1;33m\u001b[0m\u001b[0m\n\u001b[0m",
      "\u001b[1;31mNameError\u001b[0m: name 'date' is not defined"
     ]
    }
   ],
   "source": [
    "datetime.utcfromtimestamp(date).strftime('%Y-%m-%d %H:%M:%S')"
   ]
  },
  {
   "cell_type": "code",
   "execution_count": 24,
   "metadata": {},
   "outputs": [],
   "source": [
    "import time\n",
    "from datetime import datetime\n",
    "record_count = 0\n",
    "set_count = 0\n",
    "key_url = f'{request_url}&q='\n"
   ]
  },
  {
   "cell_type": "code",
   "execution_count": 25,
   "metadata": {},
   "outputs": [
    {
     "name": "stdout",
     "output_type": "stream",
     "text": [
      "Beginning Data Retrieval     \n",
      "-----------------------------\n"
     ]
    }
   ],
   "source": [
    "# Create an empty list to hold the weather data.\n",
    "city_data = []\n",
    "# Print the beginning of the logging.\n",
    "print(\"Beginning Data Retrieval     \")\n",
    "print(\"-----------------------------\")\n",
    "\n",
    "# Create counters.\n",
    "record_count = 1\n",
    "set_count = 1"
   ]
  },
  {
   "cell_type": "code",
   "execution_count": 26,
   "metadata": {
    "scrolled": true
   },
   "outputs": [
    {
     "name": "stdout",
     "output_type": "stream",
     "text": [
      "Processing Record 1 of Set 1 | qaanaaq\n",
      "Processing Record 2 of Set 1 | fenoarivo\n",
      "Processing Record 3 of Set 1 | cooma\n",
      "Processing Record 4 of Set 1 | saint-philippe\n",
      "Processing Record 5 of Set 1 | albany\n",
      "Processing Record 6 of Set 1 | mataura\n",
      "Processing Record 7 of Set 1 | morondava\n",
      "Processing Record 8 of Set 1 | atuona\n",
      "Processing Record 9 of Set 1 | khatanga\n",
      "Processing Record 10 of Set 1 | sao joao da barra\n",
      "Processing Record 11 of Set 1 | sembakung\n",
      "Processing Record 12 of Set 1 | ponta delgada\n",
      "Processing Record 13 of Set 1 | taburi\n",
      "City not found. Skipping...\n",
      "Processing Record 14 of Set 1 | jamestown\n",
      "Processing Record 15 of Set 1 | nanortalik\n",
      "Processing Record 16 of Set 1 | georgetown\n",
      "Processing Record 17 of Set 1 | busselton\n",
      "Processing Record 18 of Set 1 | bethel\n",
      "Processing Record 19 of Set 1 | portmore\n",
      "Processing Record 20 of Set 1 | freeport\n",
      "Processing Record 21 of Set 1 | ayia marina\n",
      "Processing Record 22 of Set 1 | sentyabrskiy\n",
      "City not found. Skipping...\n",
      "Processing Record 23 of Set 1 | mabaruma\n",
      "Processing Record 24 of Set 1 | labuhan\n",
      "Processing Record 25 of Set 1 | barentsburg\n",
      "City not found. Skipping...\n",
      "Processing Record 26 of Set 1 | hilo\n",
      "Processing Record 27 of Set 1 | taitung\n",
      "Processing Record 28 of Set 1 | mouila\n",
      "Processing Record 29 of Set 1 | hithadhoo\n",
      "Processing Record 30 of Set 1 | mackay\n",
      "Processing Record 31 of Set 1 | tumpat\n",
      "Processing Record 32 of Set 1 | aitape\n",
      "Processing Record 33 of Set 1 | saskylakh\n",
      "Processing Record 34 of Set 1 | rosarito\n",
      "Processing Record 35 of Set 1 | zhigansk\n",
      "Processing Record 36 of Set 1 | tasiilaq\n",
      "Processing Record 37 of Set 1 | avarua\n",
      "Processing Record 38 of Set 1 | petropavlovsk-kamchatskiy\n",
      "Processing Record 39 of Set 1 | tamandare\n",
      "Processing Record 40 of Set 1 | taolanaro\n",
      "City not found. Skipping...\n",
      "Processing Record 41 of Set 1 | poso\n",
      "Processing Record 42 of Set 1 | crotone\n",
      "Processing Record 43 of Set 1 | cape town\n",
      "Processing Record 44 of Set 1 | kapit\n",
      "Processing Record 45 of Set 1 | blythe\n",
      "Processing Record 46 of Set 1 | butterworth\n",
      "Processing Record 47 of Set 1 | puerto ayora\n",
      "Processing Record 48 of Set 1 | faanui\n",
      "Processing Record 49 of Set 1 | severo-kurilsk\n",
      "Processing Record 50 of Set 1 | kapaa\n",
      "Processing Record 1 of Set 2 | adre\n",
      "Processing Record 2 of Set 2 | banjar\n",
      "Processing Record 3 of Set 2 | balogo\n",
      "Processing Record 4 of Set 2 | saint george\n",
      "Processing Record 5 of Set 2 | rikitea\n",
      "Processing Record 6 of Set 2 | clyde river\n",
      "Processing Record 7 of Set 2 | iki-burul\n",
      "Processing Record 8 of Set 2 | yellowknife\n",
      "Processing Record 9 of Set 2 | bredasdorp\n",
      "Processing Record 10 of Set 2 | lompoc\n",
      "Processing Record 11 of Set 2 | leningradskiy\n",
      "Processing Record 12 of Set 2 | ushuaia\n",
      "Processing Record 13 of Set 2 | uray\n",
      "Processing Record 14 of Set 2 | bambous virieux\n",
      "Processing Record 15 of Set 2 | dikson\n",
      "Processing Record 16 of Set 2 | flinders\n",
      "Processing Record 17 of Set 2 | baghdad\n",
      "Processing Record 18 of Set 2 | bluff\n",
      "Processing Record 19 of Set 2 | vestmanna\n",
      "Processing Record 20 of Set 2 | tarazona\n",
      "Processing Record 21 of Set 2 | nikolskoye\n",
      "Processing Record 22 of Set 2 | ust-omchug\n",
      "Processing Record 23 of Set 2 | asau\n",
      "Processing Record 24 of Set 2 | tiksi\n",
      "Processing Record 25 of Set 2 | vao\n",
      "Processing Record 26 of Set 2 | cabo san lucas\n",
      "Processing Record 27 of Set 2 | thinadhoo\n",
      "Processing Record 28 of Set 2 | ryotsu\n",
      "Processing Record 29 of Set 2 | san policarpo\n",
      "Processing Record 30 of Set 2 | santa isabel\n",
      "Processing Record 31 of Set 2 | pacific grove\n",
      "Processing Record 32 of Set 2 | zyuzelskiy\n",
      "Processing Record 33 of Set 2 | mataram\n",
      "Processing Record 34 of Set 2 | sitka\n",
      "Processing Record 35 of Set 2 | vallenar\n",
      "Processing Record 36 of Set 2 | butaritari\n",
      "Processing Record 37 of Set 2 | chilliwack\n",
      "Processing Record 38 of Set 2 | tumannyy\n",
      "City not found. Skipping...\n",
      "Processing Record 39 of Set 2 | ilulissat\n",
      "Processing Record 40 of Set 2 | kahului\n",
      "Processing Record 41 of Set 2 | kibara\n",
      "Processing Record 42 of Set 2 | cristalina\n",
      "Processing Record 43 of Set 2 | pangody\n",
      "Processing Record 44 of Set 2 | corn island\n",
      "Processing Record 45 of Set 2 | alice town\n",
      "Processing Record 46 of Set 2 | punta arenas\n",
      "Processing Record 47 of Set 2 | kholm\n",
      "Processing Record 48 of Set 2 | palamos\n",
      "Processing Record 49 of Set 2 | dingle\n",
      "Processing Record 50 of Set 2 | acapulco\n",
      "Processing Record 1 of Set 3 | attawapiskat\n",
      "City not found. Skipping...\n",
      "Processing Record 2 of Set 3 | sao filipe\n",
      "Processing Record 3 of Set 3 | troitsko-pechorsk\n",
      "Processing Record 4 of Set 3 | killybegs\n",
      "Processing Record 5 of Set 3 | airai\n",
      "Processing Record 6 of Set 3 | cheuskiny\n",
      "City not found. Skipping...\n",
      "Processing Record 7 of Set 3 | chapais\n",
      "Processing Record 8 of Set 3 | thompson\n",
      "Processing Record 9 of Set 3 | luderitz\n",
      "Processing Record 10 of Set 3 | acarau\n",
      "Processing Record 11 of Set 3 | road town\n",
      "Processing Record 12 of Set 3 | changji\n",
      "Processing Record 13 of Set 3 | sambava\n",
      "Processing Record 14 of Set 3 | kaitangata\n",
      "Processing Record 15 of Set 3 | berlevag\n",
      "Processing Record 16 of Set 3 | saurimo\n",
      "Processing Record 17 of Set 3 | mumford\n",
      "Processing Record 18 of Set 3 | yatou\n",
      "Processing Record 19 of Set 3 | hobart\n",
      "Processing Record 20 of Set 3 | alice springs\n",
      "Processing Record 21 of Set 3 | turka\n",
      "Processing Record 22 of Set 3 | yumen\n",
      "Processing Record 23 of Set 3 | sakakah\n",
      "Processing Record 24 of Set 3 | geraldton\n",
      "Processing Record 25 of Set 3 | narsaq\n",
      "Processing Record 26 of Set 3 | lubango\n",
      "Processing Record 27 of Set 3 | nagato\n",
      "Processing Record 28 of Set 3 | vostok\n",
      "Processing Record 29 of Set 3 | buariki\n",
      "City not found. Skipping...\n",
      "Processing Record 30 of Set 3 | esik\n",
      "Processing Record 31 of Set 3 | hit\n",
      "Processing Record 32 of Set 3 | dakoro\n",
      "Processing Record 33 of Set 3 | warrenton\n",
      "Processing Record 34 of Set 3 | nenjiang\n",
      "Processing Record 35 of Set 3 | touros\n",
      "Processing Record 36 of Set 3 | avera\n",
      "Processing Record 37 of Set 3 | nizhneyansk\n",
      "City not found. Skipping...\n",
      "Processing Record 38 of Set 3 | sataua\n",
      "City not found. Skipping...\n",
      "Processing Record 39 of Set 3 | hermanus\n",
      "Processing Record 40 of Set 3 | kavieng\n",
      "Processing Record 41 of Set 3 | hvide sande\n",
      "Processing Record 42 of Set 3 | kudahuvadhoo\n",
      "Processing Record 43 of Set 3 | candawaga\n",
      "City not found. Skipping...\n",
      "Processing Record 44 of Set 3 | santa maria\n",
      "Processing Record 45 of Set 3 | garden city\n",
      "Processing Record 46 of Set 3 | shuya\n",
      "Processing Record 47 of Set 3 | vaini\n",
      "Processing Record 48 of Set 3 | souillac\n",
      "Processing Record 49 of Set 3 | suntar\n",
      "Processing Record 50 of Set 3 | codrington\n",
      "Processing Record 1 of Set 4 | chuy\n",
      "Processing Record 2 of Set 4 | mercedes\n",
      "Processing Record 3 of Set 4 | deputatskiy\n",
      "Processing Record 4 of Set 4 | salamiyah\n",
      "Processing Record 5 of Set 4 | grand river south east\n",
      "City not found. Skipping...\n",
      "Processing Record 6 of Set 4 | arraial do cabo\n",
      "Processing Record 7 of Set 4 | lincoln\n",
      "Processing Record 8 of Set 4 | mar del plata\n",
      "Processing Record 9 of Set 4 | fortuna\n",
      "Processing Record 10 of Set 4 | salalah\n",
      "Processing Record 11 of Set 4 | port alfred\n",
      "Processing Record 12 of Set 4 | japura\n",
      "Processing Record 13 of Set 4 | oranjemund\n",
      "Processing Record 14 of Set 4 | illoqqortoormiut\n",
      "City not found. Skipping...\n",
      "Processing Record 15 of Set 4 | zary\n",
      "Processing Record 16 of Set 4 | port elizabeth\n",
      "Processing Record 17 of Set 4 | port hedland\n",
      "Processing Record 18 of Set 4 | kamenskoye\n",
      "City not found. Skipping...\n",
      "Processing Record 19 of Set 4 | amderma\n",
      "City not found. Skipping...\n",
      "Processing Record 20 of Set 4 | castro\n",
      "Processing Record 21 of Set 4 | laguna\n",
      "Processing Record 22 of Set 4 | esperance\n",
      "Processing Record 23 of Set 4 | aleksandrovka\n",
      "Processing Record 24 of Set 4 | paramonga\n",
      "Processing Record 25 of Set 4 | faya\n",
      "Processing Record 26 of Set 4 | aberdeen\n",
      "Processing Record 27 of Set 4 | peniche\n",
      "Processing Record 28 of Set 4 | kodiak\n",
      "Processing Record 29 of Set 4 | kosh-agach\n",
      "Processing Record 30 of Set 4 | atambua\n",
      "Processing Record 31 of Set 4 | katsuura\n",
      "Processing Record 32 of Set 4 | fort saint john\n",
      "City not found. Skipping...\n",
      "Processing Record 33 of Set 4 | tuktoyaktuk\n",
      "Processing Record 34 of Set 4 | saldanha\n",
      "Processing Record 35 of Set 4 | caravelas\n",
      "Processing Record 36 of Set 4 | vaitupu\n",
      "City not found. Skipping...\n",
      "Processing Record 37 of Set 4 | xining\n",
      "Processing Record 38 of Set 4 | maniitsoq\n"
     ]
    },
    {
     "name": "stdout",
     "output_type": "stream",
     "text": [
      "Processing Record 39 of Set 4 | kruisfontein\n",
      "Processing Record 40 of Set 4 | glazunovka\n",
      "Processing Record 41 of Set 4 | karaj\n",
      "Processing Record 42 of Set 4 | mahebourg\n",
      "Processing Record 43 of Set 4 | zhigalovo\n",
      "Processing Record 44 of Set 4 | nawa\n",
      "Processing Record 45 of Set 4 | tsihombe\n",
      "City not found. Skipping...\n",
      "Processing Record 46 of Set 4 | cajati\n",
      "Processing Record 47 of Set 4 | sibolga\n",
      "Processing Record 48 of Set 4 | christchurch\n",
      "Processing Record 49 of Set 4 | starkville\n",
      "Processing Record 50 of Set 4 | lebu\n",
      "Processing Record 1 of Set 5 | east london\n",
      "Processing Record 2 of Set 5 | tura\n",
      "Processing Record 3 of Set 5 | egvekinot\n",
      "Processing Record 4 of Set 5 | penukonda\n",
      "Processing Record 5 of Set 5 | shache\n",
      "Processing Record 6 of Set 5 | nemuro\n",
      "Processing Record 7 of Set 5 | heihe\n",
      "Processing Record 8 of Set 5 | ribeira grande\n",
      "Processing Record 9 of Set 5 | yulara\n",
      "Processing Record 10 of Set 5 | sisimiut\n",
      "Processing Record 11 of Set 5 | sangar\n",
      "Processing Record 12 of Set 5 | fort nelson\n",
      "Processing Record 13 of Set 5 | rio gallegos\n",
      "Processing Record 14 of Set 5 | miquelon\n",
      "Processing Record 15 of Set 5 | atzitzintla\n",
      "Processing Record 16 of Set 5 | barrow\n",
      "Processing Record 17 of Set 5 | intipuca\n",
      "Processing Record 18 of Set 5 | general jose eduvigis diaz\n",
      "Processing Record 19 of Set 5 | gurskoye\n",
      "City not found. Skipping...\n",
      "Processing Record 20 of Set 5 | pevek\n",
      "Processing Record 21 of Set 5 | ampanihy\n",
      "Processing Record 22 of Set 5 | tecoanapa\n",
      "Processing Record 23 of Set 5 | lata\n",
      "Processing Record 24 of Set 5 | ostrovnoy\n",
      "Processing Record 25 of Set 5 | katobu\n",
      "Processing Record 26 of Set 5 | novouzensk\n",
      "Processing Record 27 of Set 5 | solnechnyy\n",
      "Processing Record 28 of Set 5 | san patricio\n",
      "Processing Record 29 of Set 5 | new norfolk\n",
      "Processing Record 30 of Set 5 | taoudenni\n",
      "Processing Record 31 of Set 5 | horqueta\n",
      "Processing Record 32 of Set 5 | dunedin\n",
      "Processing Record 33 of Set 5 | lagoa\n",
      "Processing Record 34 of Set 5 | torbay\n",
      "Processing Record 35 of Set 5 | bantou\n",
      "Processing Record 36 of Set 5 | naifaru\n",
      "Processing Record 37 of Set 5 | galesong\n",
      "Processing Record 38 of Set 5 | la ronge\n",
      "Processing Record 39 of Set 5 | hami\n",
      "Processing Record 40 of Set 5 | mitzic\n",
      "Processing Record 41 of Set 5 | agadez\n",
      "Processing Record 42 of Set 5 | pacifica\n",
      "Processing Record 43 of Set 5 | nangomba\n",
      "Processing Record 44 of Set 5 | bengkulu\n",
      "Processing Record 45 of Set 5 | ulladulla\n",
      "Processing Record 46 of Set 5 | moskovskiy\n",
      "Processing Record 47 of Set 5 | namibe\n",
      "Processing Record 48 of Set 5 | guerrero negro\n",
      "Processing Record 49 of Set 5 | fairbanks\n",
      "Processing Record 50 of Set 5 | kijang\n",
      "Processing Record 1 of Set 6 | carnarvon\n",
      "Processing Record 2 of Set 6 | saleaula\n",
      "City not found. Skipping...\n",
      "Processing Record 3 of Set 6 | yagodnoye\n",
      "Processing Record 4 of Set 6 | kysyl-syr\n",
      "Processing Record 5 of Set 6 | trindade\n",
      "Processing Record 6 of Set 6 | kyra\n",
      "Processing Record 7 of Set 6 | namatanai\n",
      "Processing Record 8 of Set 6 | bilibino\n",
      "Processing Record 9 of Set 6 | khandyga\n",
      "Processing Record 10 of Set 6 | cockburn town\n",
      "Processing Record 11 of Set 6 | kombissiri\n",
      "Processing Record 12 of Set 6 | haapiti\n",
      "Processing Record 13 of Set 6 | olinda\n",
      "Processing Record 14 of Set 6 | port hardy\n",
      "Processing Record 15 of Set 6 | wangdiphodrang\n",
      "City not found. Skipping...\n",
      "Processing Record 16 of Set 6 | byron bay\n",
      "Processing Record 17 of Set 6 | vahan\n",
      "Processing Record 18 of Set 6 | warqla\n",
      "City not found. Skipping...\n",
      "Processing Record 19 of Set 6 | padre paraiso\n",
      "Processing Record 20 of Set 6 | sao miguel do oeste\n",
      "City not found. Skipping...\n",
      "Processing Record 21 of Set 6 | hofn\n",
      "Processing Record 22 of Set 6 | anloga\n",
      "Processing Record 23 of Set 6 | diego de almagro\n",
      "Processing Record 24 of Set 6 | marsh harbour\n",
      "Processing Record 25 of Set 6 | grindavik\n",
      "Processing Record 26 of Set 6 | ottumwa\n",
      "Processing Record 27 of Set 6 | longyearbyen\n",
      "Processing Record 28 of Set 6 | marquette\n",
      "Processing Record 29 of Set 6 | mana\n",
      "Processing Record 30 of Set 6 | laksham\n",
      "Processing Record 31 of Set 6 | tuatapere\n",
      "Processing Record 32 of Set 6 | vardo\n",
      "Processing Record 33 of Set 6 | hasaki\n",
      "Processing Record 34 of Set 6 | krasnystaw\n",
      "Processing Record 35 of Set 6 | tsiroanomandidy\n",
      "Processing Record 36 of Set 6 | ucluelet\n",
      "Processing Record 37 of Set 6 | chokurdakh\n",
      "Processing Record 38 of Set 6 | jinxiang\n",
      "Processing Record 39 of Set 6 | paracuru\n",
      "Processing Record 40 of Set 6 | ca mau\n",
      "Processing Record 41 of Set 6 | lethem\n",
      "Processing Record 42 of Set 6 | rawson\n",
      "Processing Record 43 of Set 6 | ngukurr\n",
      "City not found. Skipping...\n",
      "Processing Record 44 of Set 6 | el balyana\n",
      "City not found. Skipping...\n",
      "Processing Record 45 of Set 6 | aklavik\n",
      "Processing Record 46 of Set 6 | ponta do sol\n",
      "Processing Record 47 of Set 6 | maracaibo\n",
      "Processing Record 48 of Set 6 | yeppoon\n",
      "Processing Record 49 of Set 6 | olafsvik\n",
      "Processing Record 50 of Set 6 | porbandar\n",
      "Processing Record 1 of Set 7 | san cristobal\n",
      "Processing Record 2 of Set 7 | anadyr\n",
      "Processing Record 3 of Set 7 | san felipe\n",
      "Processing Record 4 of Set 7 | yichang\n",
      "Processing Record 5 of Set 7 | baijiantan\n",
      "Processing Record 6 of Set 7 | camalu\n",
      "Processing Record 7 of Set 7 | port shepstone\n",
      "Processing Record 8 of Set 7 | falealupo\n",
      "City not found. Skipping...\n",
      "Processing Record 9 of Set 7 | praia da vitoria\n",
      "Processing Record 10 of Set 7 | palabuhanratu\n",
      "City not found. Skipping...\n",
      "Processing Record 11 of Set 7 | oranjestad\n",
      "Processing Record 12 of Set 7 | zalaegerszeg\n",
      "Processing Record 13 of Set 7 | meyungs\n",
      "City not found. Skipping...\n",
      "Processing Record 14 of Set 7 | lamar\n",
      "Processing Record 15 of Set 7 | port lincoln\n",
      "Processing Record 16 of Set 7 | rapid valley\n",
      "Processing Record 17 of Set 7 | awjilah\n",
      "Processing Record 18 of Set 7 | pisco\n",
      "Processing Record 19 of Set 7 | urbana\n",
      "Processing Record 20 of Set 7 | nioro\n",
      "Processing Record 21 of Set 7 | corinto\n",
      "Processing Record 22 of Set 7 | douglas\n",
      "Processing Record 23 of Set 7 | teguldet\n",
      "Processing Record 24 of Set 7 | grand island\n",
      "Processing Record 25 of Set 7 | provideniya\n",
      "Processing Record 26 of Set 7 | colares\n",
      "Processing Record 27 of Set 7 | vaitape\n",
      "Processing Record 28 of Set 7 | denizli\n",
      "Processing Record 29 of Set 7 | dolbeau\n",
      "City not found. Skipping...\n",
      "Processing Record 30 of Set 7 | walvis bay\n",
      "Processing Record 31 of Set 7 | vila franca do campo\n",
      "Processing Record 32 of Set 7 | wysokie mazowieckie\n",
      "Processing Record 33 of Set 7 | mehamn\n",
      "Processing Record 34 of Set 7 | okandja\n",
      "City not found. Skipping...\n",
      "Processing Record 35 of Set 7 | cidreira\n",
      "Processing Record 36 of Set 7 | petukhovo\n",
      "Processing Record 37 of Set 7 | iqaluit\n",
      "Processing Record 38 of Set 7 | severomuysk\n",
      "Processing Record 39 of Set 7 | marsabit\n",
      "Processing Record 40 of Set 7 | behshahr\n",
      "Processing Record 41 of Set 7 | faizabad\n",
      "Processing Record 42 of Set 7 | glazov\n",
      "Processing Record 43 of Set 7 | tezu\n",
      "Processing Record 44 of Set 7 | aksay\n",
      "Processing Record 45 of Set 7 | lagos\n",
      "Processing Record 46 of Set 7 | salina cruz\n",
      "Processing Record 47 of Set 7 | bubaque\n",
      "Processing Record 48 of Set 7 | sabha\n",
      "Processing Record 49 of Set 7 | noumea\n",
      "Processing Record 50 of Set 7 | upernavik\n",
      "Processing Record 1 of Set 8 | rudnogorsk\n",
      "Processing Record 2 of Set 8 | cherskiy\n",
      "Processing Record 3 of Set 8 | lingao\n",
      "Processing Record 4 of Set 8 | gusau\n",
      "Processing Record 5 of Set 8 | belushya guba\n",
      "City not found. Skipping...\n",
      "Processing Record 6 of Set 8 | novikovo\n",
      "Processing Record 7 of Set 8 | nabire\n",
      "Processing Record 8 of Set 8 | khasan\n",
      "Processing Record 9 of Set 8 | ancud\n",
      "Processing Record 10 of Set 8 | bayshore gardens\n",
      "Processing Record 11 of Set 8 | chernyshevskiy\n",
      "Processing Record 12 of Set 8 | umea\n",
      "Processing Record 13 of Set 8 | kabanjahe\n",
      "Processing Record 14 of Set 8 | lavrentiya\n",
      "Processing Record 15 of Set 8 | kaeo\n",
      "Processing Record 16 of Set 8 | bandarbeyla\n",
      "Processing Record 17 of Set 8 | aksarka\n",
      "Processing Record 18 of Set 8 | ola\n",
      "Processing Record 19 of Set 8 | cassilandia\n",
      "Processing Record 20 of Set 8 | oyugis\n",
      "Processing Record 21 of Set 8 | suao\n",
      "City not found. Skipping...\n",
      "Processing Record 22 of Set 8 | suez\n",
      "Processing Record 23 of Set 8 | port hawkesbury\n",
      "Processing Record 24 of Set 8 | falmouth\n",
      "Processing Record 25 of Set 8 | mecca\n",
      "Processing Record 26 of Set 8 | victor harbor\n",
      "Processing Record 27 of Set 8 | saint anthony\n"
     ]
    },
    {
     "name": "stdout",
     "output_type": "stream",
     "text": [
      "Processing Record 28 of Set 8 | barbar\n",
      "City not found. Skipping...\n",
      "Processing Record 29 of Set 8 | jalu\n",
      "Processing Record 30 of Set 8 | zeya\n",
      "Processing Record 31 of Set 8 | nuuk\n",
      "Processing Record 32 of Set 8 | nome\n",
      "Processing Record 33 of Set 8 | itanhaem\n",
      "Processing Record 34 of Set 8 | mount pleasant\n",
      "Processing Record 35 of Set 8 | victoria\n",
      "Processing Record 36 of Set 8 | nouadhibou\n",
      "Processing Record 37 of Set 8 | tabiauea\n",
      "City not found. Skipping...\n",
      "Processing Record 38 of Set 8 | lorengau\n",
      "Processing Record 39 of Set 8 | fort-shevchenko\n",
      "Processing Record 40 of Set 8 | ariogala\n",
      "Processing Record 41 of Set 8 | sao fidelis\n",
      "Processing Record 42 of Set 8 | hobyo\n",
      "Processing Record 43 of Set 8 | kavaratti\n",
      "Processing Record 44 of Set 8 | khambhat\n",
      "Processing Record 45 of Set 8 | itarema\n",
      "Processing Record 46 of Set 8 | isangel\n",
      "Processing Record 47 of Set 8 | gat\n",
      "Processing Record 48 of Set 8 | chardara\n",
      "Processing Record 49 of Set 8 | presidencia roque saenz pena\n",
      "Processing Record 50 of Set 8 | pinega\n",
      "Processing Record 1 of Set 9 | mokobeng\n",
      "Processing Record 2 of Set 9 | gravenhurst\n",
      "Processing Record 3 of Set 9 | misratah\n",
      "Processing Record 4 of Set 9 | srednekolymsk\n",
      "Processing Record 5 of Set 9 | arlit\n",
      "Processing Record 6 of Set 9 | tilichiki\n",
      "Processing Record 7 of Set 9 | bouna\n",
      "Processing Record 8 of Set 9 | awbari\n",
      "Processing Record 9 of Set 9 | aykhal\n",
      "Processing Record 10 of Set 9 | weiser\n",
      "Processing Record 11 of Set 9 | svetlyy\n",
      "Processing Record 12 of Set 9 | bundaberg\n",
      "Processing Record 13 of Set 9 | dioknisi\n",
      "Processing Record 14 of Set 9 | sorland\n",
      "Processing Record 15 of Set 9 | iskateley\n",
      "Processing Record 16 of Set 9 | rungata\n",
      "City not found. Skipping...\n",
      "Processing Record 17 of Set 9 | buqayq\n",
      "City not found. Skipping...\n",
      "Processing Record 18 of Set 9 | xian\n",
      "Processing Record 19 of Set 9 | owatonna\n",
      "Processing Record 20 of Set 9 | kitakata\n",
      "Processing Record 21 of Set 9 | camocim\n",
      "Processing Record 22 of Set 9 | crixas\n",
      "Processing Record 23 of Set 9 | general roca\n",
      "Processing Record 24 of Set 9 | zhangye\n",
      "Processing Record 25 of Set 9 | sandakan\n",
      "Processing Record 26 of Set 9 | casalpusterlengo\n",
      "Processing Record 27 of Set 9 | sohag\n",
      "Processing Record 28 of Set 9 | limbang\n",
      "Processing Record 29 of Set 9 | santiago del estero\n",
      "Processing Record 30 of Set 9 | singarayakonda\n",
      "Processing Record 31 of Set 9 | mount gambier\n",
      "Processing Record 32 of Set 9 | kajaani\n",
      "Processing Record 33 of Set 9 | brae\n",
      "Processing Record 34 of Set 9 | play cu\n",
      "City not found. Skipping...\n",
      "Processing Record 35 of Set 9 | chama\n",
      "Processing Record 36 of Set 9 | talnakh\n",
      "Processing Record 37 of Set 9 | kinston\n",
      "Processing Record 38 of Set 9 | dutlwe\n",
      "Processing Record 39 of Set 9 | viedma\n",
      "Processing Record 40 of Set 9 | richards bay\n",
      "Processing Record 41 of Set 9 | nelson bay\n",
      "Processing Record 42 of Set 9 | inongo\n",
      "Processing Record 43 of Set 9 | katherine\n",
      "Processing Record 44 of Set 9 | phan rang\n",
      "City not found. Skipping...\n",
      "Processing Record 45 of Set 9 | parana\n",
      "Processing Record 46 of Set 9 | khandbari\n",
      "Processing Record 47 of Set 9 | krutinka\n",
      "Processing Record 48 of Set 9 | numan\n",
      "Processing Record 49 of Set 9 | labutta\n",
      "City not found. Skipping...\n",
      "Processing Record 50 of Set 9 | burnie\n",
      "Processing Record 1 of Set 10 | khani\n",
      "Processing Record 2 of Set 10 | alappuzha\n",
      "Processing Record 3 of Set 10 | christiansburg\n",
      "Processing Record 4 of Set 10 | brainerd\n",
      "Processing Record 5 of Set 10 | padang\n",
      "Processing Record 6 of Set 10 | nuzvid\n",
      "Processing Record 7 of Set 10 | landeck\n",
      "Processing Record 8 of Set 10 | bridlington\n",
      "Processing Record 9 of Set 10 | saint stephen\n",
      "Processing Record 10 of Set 10 | bassar\n",
      "Processing Record 11 of Set 10 | yefremov\n",
      "Processing Record 12 of Set 10 | santiago de chuco\n",
      "Processing Record 13 of Set 10 | verkhnyaya inta\n",
      "Processing Record 14 of Set 10 | ambilobe\n",
      "Processing Record 15 of Set 10 | pangnirtung\n",
      "Processing Record 16 of Set 10 | bulatukan\n",
      "Processing Record 17 of Set 10 | durant\n",
      "Processing Record 18 of Set 10 | saint-augustin\n",
      "Processing Record 19 of Set 10 | santa cruz de tenerife\n",
      "Processing Record 20 of Set 10 | piacabucu\n",
      "Processing Record 21 of Set 10 | margate\n",
      "Processing Record 22 of Set 10 | alamos\n",
      "Processing Record 23 of Set 10 | hatillo\n",
      "Processing Record 24 of Set 10 | muros\n",
      "Processing Record 25 of Set 10 | badulla\n",
      "Processing Record 26 of Set 10 | igrim\n",
      "Processing Record 27 of Set 10 | qafsah\n",
      "City not found. Skipping...\n",
      "Processing Record 28 of Set 10 | monrovia\n",
      "Processing Record 29 of Set 10 | mount isa\n",
      "Processing Record 30 of Set 10 | talcahuano\n",
      "Processing Record 31 of Set 10 | ternate\n",
      "Processing Record 32 of Set 10 | bongandanga\n",
      "Processing Record 33 of Set 10 | kloulklubed\n",
      "Processing Record 34 of Set 10 | baraboo\n",
      "Processing Record 35 of Set 10 | hualmay\n",
      "Processing Record 36 of Set 10 | marawi\n",
      "Processing Record 37 of Set 10 | dharchula\n",
      "Processing Record 38 of Set 10 | edeia\n",
      "Processing Record 39 of Set 10 | tanout\n",
      "Processing Record 40 of Set 10 | gaoua\n",
      "Processing Record 41 of Set 10 | kindu\n",
      "Processing Record 42 of Set 10 | borlange\n",
      "City not found. Skipping...\n",
      "Processing Record 43 of Set 10 | voh\n",
      "Processing Record 44 of Set 10 | asfi\n",
      "Processing Record 45 of Set 10 | inhambane\n",
      "Processing Record 46 of Set 10 | rorvik\n",
      "Processing Record 47 of Set 10 | tarsus\n",
      "Processing Record 48 of Set 10 | rietavas\n",
      "Processing Record 49 of Set 10 | kuybyshevo\n",
      "Processing Record 50 of Set 10 | cankuzo\n",
      "Processing Record 1 of Set 11 | omutinskoye\n",
      "City not found. Skipping...\n",
      "Processing Record 2 of Set 11 | chicama\n",
      "Processing Record 3 of Set 11 | norman wells\n",
      "Processing Record 4 of Set 11 | vanimo\n",
      "Processing Record 5 of Set 11 | alofi\n",
      "Processing Record 6 of Set 11 | jabinyanah\n",
      "Processing Record 7 of Set 11 | kattivakkam\n",
      "Processing Record 8 of Set 11 | kamaishi\n",
      "Processing Record 9 of Set 11 | le vauclin\n",
      "Processing Record 10 of Set 11 | methoni\n",
      "Processing Record 11 of Set 11 | paysandu\n",
      "Processing Record 12 of Set 11 | zambezi\n",
      "Processing Record 13 of Set 11 | bako\n",
      "Processing Record 14 of Set 11 | darmstadt\n",
      "Processing Record 15 of Set 11 | edinet\n",
      "Processing Record 16 of Set 11 | puerto penasco\n",
      "Processing Record 17 of Set 11 | okhotsk\n",
      "Processing Record 18 of Set 11 | mpanda\n",
      "Processing Record 19 of Set 11 | mys shmidta\n",
      "City not found. Skipping...\n",
      "Processing Record 20 of Set 11 | igarka\n",
      "Processing Record 21 of Set 11 | port macquarie\n",
      "Processing Record 22 of Set 11 | karauzyak\n",
      "City not found. Skipping...\n",
      "Processing Record 23 of Set 11 | pitimbu\n",
      "Processing Record 24 of Set 11 | havre-saint-pierre\n",
      "Processing Record 25 of Set 11 | bowen\n",
      "Processing Record 26 of Set 11 | ust-tsilma\n",
      "Processing Record 27 of Set 11 | polovinnoye\n",
      "Processing Record 28 of Set 11 | cayenne\n",
      "Processing Record 29 of Set 11 | college\n",
      "Processing Record 30 of Set 11 | teeli\n",
      "Processing Record 31 of Set 11 | samusu\n",
      "City not found. Skipping...\n",
      "Processing Record 32 of Set 11 | kyzyl-suu\n",
      "Processing Record 33 of Set 11 | horki\n",
      "Processing Record 34 of Set 11 | paamiut\n",
      "Processing Record 35 of Set 11 | elko\n",
      "Processing Record 36 of Set 11 | waingapu\n",
      "Processing Record 37 of Set 11 | churapcha\n",
      "Processing Record 38 of Set 11 | garissa\n",
      "Processing Record 39 of Set 11 | khonuu\n",
      "City not found. Skipping...\n",
      "Processing Record 40 of Set 11 | pingliang\n",
      "Processing Record 41 of Set 11 | coahuayana\n",
      "Processing Record 42 of Set 11 | zhanaozen\n",
      "Processing Record 43 of Set 11 | bedele\n",
      "Processing Record 44 of Set 11 | khash\n",
      "Processing Record 45 of Set 11 | bonthe\n",
      "Processing Record 46 of Set 11 | inirida\n",
      "Processing Record 47 of Set 11 | eureka\n",
      "Processing Record 48 of Set 11 | saint-claude\n",
      "Processing Record 49 of Set 11 | sampit\n",
      "Processing Record 50 of Set 11 | witu\n",
      "Processing Record 1 of Set 12 | beira\n",
      "Processing Record 2 of Set 12 | aloleng\n",
      "Processing Record 3 of Set 12 | palanga\n",
      "Processing Record 4 of Set 12 | sompeta\n",
      "Processing Record 5 of Set 12 | gorno-chuyskiy\n",
      "City not found. Skipping...\n",
      "Processing Record 6 of Set 12 | buraydah\n",
      "Processing Record 7 of Set 12 | praya\n",
      "Processing Record 8 of Set 12 | umzimvubu\n",
      "City not found. Skipping...\n",
      "Processing Record 9 of Set 12 | huangmei\n",
      "Processing Record 10 of Set 12 | isabela\n",
      "Processing Record 11 of Set 12 | lobito\n",
      "Processing Record 12 of Set 12 | mayor pablo lagerenza\n",
      "Processing Record 13 of Set 12 | portland\n",
      "Processing Record 14 of Set 12 | yerbogachen\n"
     ]
    },
    {
     "name": "stdout",
     "output_type": "stream",
     "text": [
      "Processing Record 15 of Set 12 | malmo\n",
      "Processing Record 16 of Set 12 | grootfontein\n",
      "Processing Record 17 of Set 12 | bloomingdale\n",
      "Processing Record 18 of Set 12 | emilio carranza\n",
      "Processing Record 19 of Set 12 | mufulira\n",
      "Processing Record 20 of Set 12 | kargasok\n",
      "Processing Record 21 of Set 12 | daru\n",
      "Processing Record 22 of Set 12 | launceston\n",
      "Processing Record 23 of Set 12 | beihai\n",
      "Processing Record 24 of Set 12 | treinta y tres\n",
      "Processing Record 25 of Set 12 | eyl\n",
      "Processing Record 26 of Set 12 | okha\n",
      "Processing Record 27 of Set 12 | songjianghe\n",
      "Processing Record 28 of Set 12 | svencionys\n",
      "Processing Record 29 of Set 12 | chandler\n",
      "Processing Record 30 of Set 12 | constitucion\n",
      "Processing Record 31 of Set 12 | panguna\n",
      "Processing Record 32 of Set 12 | lyuban\n",
      "Processing Record 33 of Set 12 | port blair\n",
      "Processing Record 34 of Set 12 | contamana\n",
      "Processing Record 35 of Set 12 | belyy yar\n",
      "Processing Record 36 of Set 12 | kasongo-lunda\n",
      "Processing Record 37 of Set 12 | sobolevo\n",
      "Processing Record 38 of Set 12 | lukovetskiy\n",
      "Processing Record 39 of Set 12 | hanzhong\n",
      "Processing Record 40 of Set 12 | taltal\n",
      "Processing Record 41 of Set 12 | amga\n",
      "Processing Record 42 of Set 12 | vitim\n",
      "Processing Record 43 of Set 12 | halifax\n",
      "Processing Record 44 of Set 12 | shangqiu\n",
      "Processing Record 45 of Set 12 | grand gaube\n",
      "Processing Record 46 of Set 12 | ewa beach\n",
      "Processing Record 47 of Set 12 | carballo\n",
      "Processing Record 48 of Set 12 | paredon\n",
      "Processing Record 49 of Set 12 | mauganj\n",
      "Processing Record 50 of Set 12 | saint-georges\n",
      "Processing Record 1 of Set 13 | samarai\n",
      "Processing Record 2 of Set 13 | coihaique\n",
      "Processing Record 3 of Set 13 | magadan\n",
      "Processing Record 4 of Set 13 | isla mujeres\n",
      "Processing Record 5 of Set 13 | quatre cocos\n",
      "Processing Record 6 of Set 13 | gravdal\n",
      "Processing Record 7 of Set 13 | tromso\n",
      "Processing Record 8 of Set 13 | maloshuyka\n",
      "City not found. Skipping...\n",
      "Processing Record 9 of Set 13 | murray bridge\n",
      "Processing Record 10 of Set 13 | kampong thum\n",
      "Processing Record 11 of Set 13 | lakes entrance\n",
      "Processing Record 12 of Set 13 | saint-pierre\n",
      "Processing Record 13 of Set 13 | kortkeros\n",
      "Processing Record 14 of Set 13 | poum\n",
      "Processing Record 15 of Set 13 | moji das cruzes\n",
      "City not found. Skipping...\n",
      "Processing Record 16 of Set 13 | auki\n",
      "Processing Record 17 of Set 13 | dekar\n",
      "Processing Record 18 of Set 13 | simao\n",
      "Processing Record 19 of Set 13 | manoel urbano\n",
      "Processing Record 20 of Set 13 | camana\n",
      "Processing Record 21 of Set 13 | tortoli\n",
      "Processing Record 22 of Set 13 | usinsk\n",
      "Processing Record 23 of Set 13 | dovers\n",
      "Processing Record 24 of Set 13 | mamallapuram\n",
      "Processing Record 25 of Set 13 | shibetsu\n",
      "-----------------------------\n",
      "Data Retrieval Complete      \n",
      "-----------------------------\n"
     ]
    }
   ],
   "source": [
    "# Loop through all the cities in the list.\n",
    "for i, city in enumerate(cities):\n",
    "\n",
    "    # Group cities in sets of 50 for logging purposes.\n",
    "    if (i % 50 == 0 and i >= 50):\n",
    "        set_count += 1\n",
    "        record_count = 1\n",
    "        time.sleep(60)\n",
    "\n",
    "    # Create endpoint URL with each city.\n",
    "    city_url = key_url + city.replace(\" \",\"+\")\n",
    "\n",
    "    # Log the URL, record, and set numbers and the city.\n",
    "    print(f\"Processing Record {record_count} of Set {set_count} | {city}\")\n",
    "    # Add 1 to the record count.\n",
    "    record_count += 1\n",
    "    \n",
    "    # Run an API request for each of the cities.\n",
    "    try:\n",
    "        # Parse the JSON and retrieve data.\n",
    "        city_weather = requests.get(city_url).json()\n",
    "        # Parse out the needed data.\n",
    "        city_lat = city_weather[\"coord\"][\"lat\"]\n",
    "        city_lng = city_weather[\"coord\"][\"lon\"]\n",
    "        city_max_temp = city_weather[\"main\"][\"temp_max\"]\n",
    "        city_humidity = city_weather[\"main\"][\"humidity\"]\n",
    "        city_clouds = city_weather[\"clouds\"][\"all\"]\n",
    "        city_wind = city_weather[\"wind\"][\"speed\"]\n",
    "        city_country = city_weather[\"sys\"][\"country\"]\n",
    "        # Convert the date to ISO standard.\n",
    "        city_date = datetime.utcfromtimestamp(city_weather[\"dt\"]).strftime('%Y-%m-%d %H:%M:%S')\n",
    "        # Append the city information into city_data list.\n",
    "        city_data.append({\"City\": city.title(),\n",
    "                          \"Lat\": city_lat,\n",
    "                          \"Lng\": city_lng,\n",
    "                          \"Max Temp\": city_max_temp,\n",
    "                          \"Humidity\": city_humidity,\n",
    "                          \"Cloudiness\": city_clouds,\n",
    "                          \"Wind Speed\": city_wind,\n",
    "                          \"Country\": city_country,\n",
    "                          \"Date\": city_date})\n",
    "\n",
    "# If an error is experienced, skip the city.\n",
    "    except:\n",
    "        print(\"City not found. Skipping...\")\n",
    "        pass\n",
    "\n",
    "# Indicate that Data Loading is complete.\n",
    "print(\"-----------------------------\")\n",
    "print(\"Data Retrieval Complete      \")\n",
    "print(\"-----------------------------\")"
   ]
  },
  {
   "cell_type": "code",
   "execution_count": 33,
   "metadata": {},
   "outputs": [],
   "source": [
    "city_data_df = pd.DataFrame(city_data)"
   ]
  },
  {
   "cell_type": "code",
   "execution_count": 36,
   "metadata": {},
   "outputs": [],
   "source": [
    "new_column_order = ['City','Country','Date','Lat','Lng','Max Temp','Humidity','Cloudiness','Wind Speed']"
   ]
  },
  {
   "cell_type": "code",
   "execution_count": 41,
   "metadata": {},
   "outputs": [],
   "source": [
    "city_data_df= city_data_df[new_column_order]"
   ]
  },
  {
   "cell_type": "code",
   "execution_count": 42,
   "metadata": {},
   "outputs": [
    {
     "data": {
      "text/html": [
       "<div>\n",
       "<style scoped>\n",
       "    .dataframe tbody tr th:only-of-type {\n",
       "        vertical-align: middle;\n",
       "    }\n",
       "\n",
       "    .dataframe tbody tr th {\n",
       "        vertical-align: top;\n",
       "    }\n",
       "\n",
       "    .dataframe thead th {\n",
       "        text-align: right;\n",
       "    }\n",
       "</style>\n",
       "<table border=\"1\" class=\"dataframe\">\n",
       "  <thead>\n",
       "    <tr style=\"text-align: right;\">\n",
       "      <th></th>\n",
       "      <th>City</th>\n",
       "      <th>Country</th>\n",
       "      <th>Date</th>\n",
       "      <th>Lat</th>\n",
       "      <th>Lng</th>\n",
       "      <th>Max Temp</th>\n",
       "      <th>Humidity</th>\n",
       "      <th>Cloudiness</th>\n",
       "      <th>Wind Speed</th>\n",
       "    </tr>\n",
       "  </thead>\n",
       "  <tbody>\n",
       "    <tr>\n",
       "      <th>0</th>\n",
       "      <td>Qaanaaq</td>\n",
       "      <td>GL</td>\n",
       "      <td>2021-11-28 18:13:37</td>\n",
       "      <td>77.4840</td>\n",
       "      <td>-69.3632</td>\n",
       "      <td>-8.23</td>\n",
       "      <td>83</td>\n",
       "      <td>51</td>\n",
       "      <td>7.27</td>\n",
       "    </tr>\n",
       "    <tr>\n",
       "      <th>1</th>\n",
       "      <td>Fenoarivo</td>\n",
       "      <td>MG</td>\n",
       "      <td>2021-11-28 18:15:40</td>\n",
       "      <td>-18.9330</td>\n",
       "      <td>47.4354</td>\n",
       "      <td>64.47</td>\n",
       "      <td>88</td>\n",
       "      <td>40</td>\n",
       "      <td>6.91</td>\n",
       "    </tr>\n",
       "    <tr>\n",
       "      <th>2</th>\n",
       "      <td>Cooma</td>\n",
       "      <td>AU</td>\n",
       "      <td>2021-11-28 18:15:40</td>\n",
       "      <td>-36.2333</td>\n",
       "      <td>149.1333</td>\n",
       "      <td>37.17</td>\n",
       "      <td>100</td>\n",
       "      <td>90</td>\n",
       "      <td>4.61</td>\n",
       "    </tr>\n",
       "    <tr>\n",
       "      <th>3</th>\n",
       "      <td>Saint-Philippe</td>\n",
       "      <td>RE</td>\n",
       "      <td>2021-11-28 18:12:29</td>\n",
       "      <td>-21.3585</td>\n",
       "      <td>55.7679</td>\n",
       "      <td>76.59</td>\n",
       "      <td>84</td>\n",
       "      <td>58</td>\n",
       "      <td>3.60</td>\n",
       "    </tr>\n",
       "    <tr>\n",
       "      <th>4</th>\n",
       "      <td>Albany</td>\n",
       "      <td>US</td>\n",
       "      <td>2021-11-28 18:11:39</td>\n",
       "      <td>42.6001</td>\n",
       "      <td>-73.9662</td>\n",
       "      <td>32.65</td>\n",
       "      <td>73</td>\n",
       "      <td>100</td>\n",
       "      <td>5.03</td>\n",
       "    </tr>\n",
       "    <tr>\n",
       "      <th>...</th>\n",
       "      <td>...</td>\n",
       "      <td>...</td>\n",
       "      <td>...</td>\n",
       "      <td>...</td>\n",
       "      <td>...</td>\n",
       "      <td>...</td>\n",
       "      <td>...</td>\n",
       "      <td>...</td>\n",
       "      <td>...</td>\n",
       "    </tr>\n",
       "    <tr>\n",
       "      <th>570</th>\n",
       "      <td>Tortoli</td>\n",
       "      <td>IT</td>\n",
       "      <td>2021-11-28 18:30:13</td>\n",
       "      <td>39.9256</td>\n",
       "      <td>9.6572</td>\n",
       "      <td>49.82</td>\n",
       "      <td>40</td>\n",
       "      <td>20</td>\n",
       "      <td>19.57</td>\n",
       "    </tr>\n",
       "    <tr>\n",
       "      <th>571</th>\n",
       "      <td>Usinsk</td>\n",
       "      <td>RU</td>\n",
       "      <td>2021-11-28 18:30:13</td>\n",
       "      <td>65.9939</td>\n",
       "      <td>57.5281</td>\n",
       "      <td>11.48</td>\n",
       "      <td>95</td>\n",
       "      <td>100</td>\n",
       "      <td>13.15</td>\n",
       "    </tr>\n",
       "    <tr>\n",
       "      <th>572</th>\n",
       "      <td>Dovers</td>\n",
       "      <td>VC</td>\n",
       "      <td>2021-11-28 18:30:14</td>\n",
       "      <td>12.8833</td>\n",
       "      <td>-61.1833</td>\n",
       "      <td>80.19</td>\n",
       "      <td>72</td>\n",
       "      <td>30</td>\n",
       "      <td>14.23</td>\n",
       "    </tr>\n",
       "    <tr>\n",
       "      <th>573</th>\n",
       "      <td>Mamallapuram</td>\n",
       "      <td>IN</td>\n",
       "      <td>2021-11-28 18:30:14</td>\n",
       "      <td>12.6264</td>\n",
       "      <td>80.1722</td>\n",
       "      <td>75.25</td>\n",
       "      <td>89</td>\n",
       "      <td>100</td>\n",
       "      <td>12.62</td>\n",
       "    </tr>\n",
       "    <tr>\n",
       "      <th>574</th>\n",
       "      <td>Shibetsu</td>\n",
       "      <td>JP</td>\n",
       "      <td>2021-11-28 18:30:14</td>\n",
       "      <td>43.6590</td>\n",
       "      <td>145.1320</td>\n",
       "      <td>34.38</td>\n",
       "      <td>76</td>\n",
       "      <td>4</td>\n",
       "      <td>9.13</td>\n",
       "    </tr>\n",
       "  </tbody>\n",
       "</table>\n",
       "<p>575 rows × 9 columns</p>\n",
       "</div>"
      ],
      "text/plain": [
       "               City Country                 Date      Lat       Lng  Max Temp  \\\n",
       "0           Qaanaaq      GL  2021-11-28 18:13:37  77.4840  -69.3632     -8.23   \n",
       "1         Fenoarivo      MG  2021-11-28 18:15:40 -18.9330   47.4354     64.47   \n",
       "2             Cooma      AU  2021-11-28 18:15:40 -36.2333  149.1333     37.17   \n",
       "3    Saint-Philippe      RE  2021-11-28 18:12:29 -21.3585   55.7679     76.59   \n",
       "4            Albany      US  2021-11-28 18:11:39  42.6001  -73.9662     32.65   \n",
       "..              ...     ...                  ...      ...       ...       ...   \n",
       "570         Tortoli      IT  2021-11-28 18:30:13  39.9256    9.6572     49.82   \n",
       "571          Usinsk      RU  2021-11-28 18:30:13  65.9939   57.5281     11.48   \n",
       "572          Dovers      VC  2021-11-28 18:30:14  12.8833  -61.1833     80.19   \n",
       "573    Mamallapuram      IN  2021-11-28 18:30:14  12.6264   80.1722     75.25   \n",
       "574        Shibetsu      JP  2021-11-28 18:30:14  43.6590  145.1320     34.38   \n",
       "\n",
       "     Humidity  Cloudiness  Wind Speed  \n",
       "0          83          51        7.27  \n",
       "1          88          40        6.91  \n",
       "2         100          90        4.61  \n",
       "3          84          58        3.60  \n",
       "4          73         100        5.03  \n",
       "..        ...         ...         ...  \n",
       "570        40          20       19.57  \n",
       "571        95         100       13.15  \n",
       "572        72          30       14.23  \n",
       "573        89         100       12.62  \n",
       "574        76           4        9.13  \n",
       "\n",
       "[575 rows x 9 columns]"
      ]
     },
     "execution_count": 42,
     "metadata": {},
     "output_type": "execute_result"
    }
   ],
   "source": [
    "city_data_df\n"
   ]
  },
  {
   "cell_type": "code",
   "execution_count": 43,
   "metadata": {},
   "outputs": [],
   "source": [
    "# Create the output file (CSV).\n",
    "output_data_file = \"weather_data/cities.csv\"\n",
    "# Export the City_Data into a CSV.\n",
    "city_data_df.to_csv(output_data_file, index_label=\"City_ID\")"
   ]
  },
  {
   "cell_type": "code",
   "execution_count": 44,
   "metadata": {},
   "outputs": [],
   "source": [
    "# Extract relevant fields from the DataFrame for plotting.\n",
    "lats = city_data_df[\"Lat\"]\n",
    "max_temps = city_data_df[\"Max Temp\"]\n",
    "humidity = city_data_df[\"Humidity\"]\n",
    "cloudiness = city_data_df[\"Cloudiness\"]\n",
    "wind_speed = city_data_df[\"Wind Speed\"]"
   ]
  },
  {
   "cell_type": "code",
   "execution_count": 45,
   "metadata": {},
   "outputs": [],
   "source": [
    "# import time module\n",
    "import time\n",
    "\n",
    "#today's date in seconds\n",
    "today = time.time()"
   ]
  },
  {
   "cell_type": "code",
   "execution_count": 47,
   "metadata": {},
   "outputs": [],
   "source": [
    "today = time.strftime('%x')\n"
   ]
  },
  {
   "cell_type": "code",
   "execution_count": 48,
   "metadata": {},
   "outputs": [
    {
     "data": {
      "text/plain": [
       "'11/28/21'"
      ]
     },
     "execution_count": 48,
     "metadata": {},
     "output_type": "execute_result"
    }
   ],
   "source": [
    "today\n"
   ]
  },
  {
   "cell_type": "code",
   "execution_count": 53,
   "metadata": {},
   "outputs": [
    {
     "data": {
      "image/png": "[encoded data removed]",
      "text/plain": [
       "<Figure size 432x288 with 1 Axes>"
      ]
     },
     "metadata": {
      "needs_background": "light"
     },
     "output_type": "display_data"
    }
   ],
   "source": [
    "# Import time module\n",
    "import time\n",
    "\n",
    "# Build the scatter plot for latitude vs. max temperature.\n",
    "plt.scatter(lats,\n",
    "            max_temps,\n",
    "            edgecolor=\"black\", linewidths=1, marker=\"o\",\n",
    "            alpha=0.8, label=\"Cities\")\n",
    "\n",
    "# Incorporate the other graph properties.\n",
    "plt.title(f\"City Latitude vs. Max Temperature \"+ time.strftime(\"%x\"))\n",
    "plt.ylabel(\"Max Temperature (F)\")\n",
    "plt.xlabel(\"Latitude\")\n",
    "plt.grid(True)\n",
    "\n",
    "# Save the figure.\n",
    "plt.savefig(\"weather_data/Fig1 - Temp.png\")\n",
    "\n",
    "# Show plot.\n",
    "plt.show()\n",
    "\n"
   ]
  },
  {
   "cell_type": "code",
   "execution_count": 54,
   "metadata": {},
   "outputs": [
    {
     "data": {
      "image/png": "[encoded data removed]",
      "text/plain": [
       "<Figure size 432x288 with 1 Axes>"
      ]
     },
     "metadata": {
      "needs_background": "light"
     },
     "output_type": "display_data"
    }
   ],
   "source": [
    "import time\n",
    "\n",
    "# Build the scatter plot for latitude vs. max temperature.\n",
    "plt.scatter(lats,\n",
    "            humidity,\n",
    "            edgecolor=\"black\", linewidths=1, marker=\"o\",\n",
    "            alpha=0.8, label=\"Cities\")\n",
    "\n",
    "# Incorporate the other graph properties.\n",
    "plt.title(f\"City Latitude vs. Humidity \"+ time.strftime(\"%x\"))\n",
    "plt.ylabel(\"Humidity ()\")\n",
    "plt.xlabel(\"Latitude\")\n",
    "plt.grid(True)\n",
    "\n",
    "# Save the figure.\n",
    "plt.savefig(\"weather_data/Fig2 - Humidity.png\")\n",
    "\n",
    "# Show plot.\n",
    "plt.show()"
   ]
  },
  {
   "cell_type": "code",
   "execution_count": 55,
   "metadata": {},
   "outputs": [
    {
     "data": {
      "image/png": "[encoded data removed]",
      "text/plain": [
       "<Figure size 432x288 with 1 Axes>"
      ]
     },
     "metadata": {
      "needs_background": "light"
     },
     "output_type": "display_data"
    }
   ],
   "source": [
    "import time\n",
    "\n",
    "# Build the scatter plot for latitude vs. max temperature.\n",
    "plt.scatter(lats,\n",
    "            cloudiness,\n",
    "            edgecolor=\"black\", linewidths=1, marker=\"o\",\n",
    "            alpha=0.8, label=\"Cities\")\n",
    "\n",
    "# Incorporate the other graph properties.\n",
    "plt.title(f\"City Latitude vs. Cloudiness \"+ time.strftime(\"%x\"))\n",
    "plt.ylabel(\"Cloudiness\")\n",
    "plt.xlabel(\"Latitude\")\n",
    "plt.grid(True)\n",
    "\n",
    "# Save the figure.\n",
    "plt.savefig(\"weather_data/Fig3 - Clouds.png\")\n",
    "\n",
    "# Show plot.\n",
    "plt.show()"
   ]
  },
  {
   "cell_type": "code",
   "execution_count": 56,
   "metadata": {},
   "outputs": [
    {
     "data": {
      "image/png": "[encoded data removed]",
      "text/plain": [
       "<Figure size 432x288 with 1 Axes>"
      ]
     },
     "metadata": {
      "needs_background": "light"
     },
     "output_type": "display_data"
    }
   ],
   "source": [
    "import time\n",
    "\n",
    "# Build the scatter plot for latitude vs. max temperature.\n",
    "plt.scatter(lats,\n",
    "            wind_speed,\n",
    "            edgecolor=\"black\", linewidths=1, marker=\"o\",\n",
    "            alpha=0.8, label=\"Cities\")\n",
    "\n",
    "# Incorporate the other graph properties.\n",
    "plt.title(f\"City Latitude vs. Wind Speed \"+ time.strftime(\"%x\"))\n",
    "plt.ylabel(\"Wind Speed\")\n",
    "plt.xlabel(\"Latitude\")\n",
    "plt.grid(True)\n",
    "\n",
    "# Save the figure.\n",
    "plt.savefig(\"weather_data/Fig4 - Wind Speed.png\")\n",
    "\n",
    "# Show plot.\n",
    "plt.show()"
   ]
  },
  {
   "cell_type": "code",
   "execution_count": null,
   "metadata": {},
   "outputs": [],
   "source": []
  }
 ],
 "metadata": {
  "kernelspec": {
   "display_name": "PythonData",
   "language": "python",
   "name": "pythondata"
  },
  "language_info": {
   "codemirror_mode": {
    "name": "ipython",
    "version": 3
   },
   "file_extension": ".py",
   "mimetype": "text/x-python",
   "name": "python",
   "nbconvert_exporter": "python",
   "pygments_lexer": "ipython3",
   "version": "3.8.3"
  }
 },
 "nbformat": 4,
 "nbformat_minor": 4
}
